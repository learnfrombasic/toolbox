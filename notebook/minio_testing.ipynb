{
 "cells": [
  {
   "cell_type": "code",
   "execution_count": null,
   "id": "58d81287",
   "metadata": {},
   "outputs": [
    {
     "data": {
      "text/plain": [
       "PosixPath('/home/octoopt/workspace/projects/learn-from-basics/the-notes/toolbox')"
      ]
     },
     "execution_count": 19,
     "metadata": {},
     "output_type": "execute_result"
    }
   ],
   "source": [
    "\"\"\"\n",
    "MinIO là một hệ thống lưu trữ đối tượng (object storage) mã nguồn mở, tương thích với Amazon S3 API. Nó được thiết kế để lưu trữ và quản lý dữ liệu phi cấu trúc như hình ảnh, video, log, bản sao lưu, dữ liệu máy học... MinIO thường được sử dụng để:\n",
    "\n",
    "Xây dựng hệ thống lưu trữ dữ liệu nội bộ thay thế S3.\n",
    "\n",
    "Lưu trữ dữ liệu lớn (big data), phục vụ phân tích và AI/ML.\n",
    "\n",
    "Tích hợp với ứng dụng cần kho dữ liệu có khả năng mở rộng, phân tán và an toàn.\n",
    "\"\"\"\n",
    "\n",
    "from pathlib import Path\n",
    "from minio import Minio\n",
    "\n",
    "\n",
    "MINIO_URL = \"http://localhost:9000\"\n",
    "MINIO_ACCESS_KEY = \"minioadmin\"\n",
    "MINIO_SECRET_KEY = \"minioadmin\"\n",
    "MINIO_BUCKET_NAME = \"lingarccape\"\n",
    "\n",
    "\n",
    "ROOT_DIR = Path(\"../\").resolve()\n",
    "ROOT_DIR"
   ]
  },
  {
   "cell_type": "code",
   "execution_count": 20,
   "id": "6244e81b",
   "metadata": {},
   "outputs": [
    {
     "data": {
      "text/plain": [
       "<minio.api.Minio at 0x7bb7da581e40>"
      ]
     },
     "execution_count": 20,
     "metadata": {},
     "output_type": "execute_result"
    }
   ],
   "source": [
    "client = Minio(\n",
    "    endpoint=\"localhost:9000\",\n",
    "    access_key=MINIO_ACCESS_KEY,\n",
    "    secret_key=MINIO_SECRET_KEY,\n",
    "    secure=False,\n",
    ")\n",
    "\n",
    "client"
   ]
  },
  {
   "cell_type": "code",
   "execution_count": 12,
   "id": "cd939e66",
   "metadata": {},
   "outputs": [
    {
     "name": "stdout",
     "output_type": "stream",
     "text": [
      "Bucket 'lingarccape' created\n"
     ]
    }
   ],
   "source": [
    "# Ensure the bucket exists\n",
    "if not client.bucket_exists(MINIO_BUCKET_NAME):\n",
    "    client.make_bucket(MINIO_BUCKET_NAME)\n",
    "    print(f\"Bucket '{MINIO_BUCKET_NAME}' created\")\n",
    "else:\n",
    "    print(f\"Bucket '{MINIO_BUCKET_NAME}' already exists\")"
   ]
  },
  {
   "cell_type": "code",
   "execution_count": 16,
   "id": "f27f3b4b",
   "metadata": {},
   "outputs": [
    {
     "name": "stdout",
     "output_type": "stream",
     "text": [
      "'/home/octoopt/workspace/projects/learn-from-basics/the-notes/toolbox/docs/learnfrombasics-02.png' is successfully uploaded as 'learnfrombasics-02.png'\n"
     ]
    }
   ],
   "source": [
    "# Put object (upload file)\n",
    "filename = \"learnfrombasics-02.png\"\n",
    "file_path = str(ROOT_DIR / \"docs\" / filename)\n",
    "object_name = filename\n",
    "\n",
    "client.fput_object(\n",
    "    MINIO_BUCKET_NAME,\n",
    "    object_name,\n",
    "    file_path,\n",
    ")\n",
    "\n",
    "print(f\"'{file_path}' is successfully uploaded as '{object_name}'\")"
   ]
  },
  {
   "cell_type": "code",
   "execution_count": 17,
   "id": "405d518a",
   "metadata": {},
   "outputs": [
    {
     "name": "stdout",
     "output_type": "stream",
     "text": [
      "'learnfrombasics-02.png' is successfully downloaded to './test-learnfrombasics-02.png'\n"
     ]
    }
   ],
   "source": [
    "# Test get object\n",
    "\n",
    "# Get object (download file)\n",
    "download_path = \"./test-learnfrombasics-02.png\"\n",
    "client.fget_object(\n",
    "    MINIO_BUCKET_NAME,\n",
    "    object_name,\n",
    "    download_path,\n",
    ")\n",
    "print(f\"'{object_name}' is successfully downloaded to '{download_path}'\")"
   ]
  },
  {
   "cell_type": "code",
   "execution_count": 18,
   "id": "4d298770",
   "metadata": {},
   "outputs": [
    {
     "name": "stdout",
     "output_type": "stream",
     "text": [
      "Deleted object: learnfrombasics-02.png\n",
      "Bucket 'lingarccape' deleted successfully\n"
     ]
    }
   ],
   "source": [
    "# 1. Remove all objects in the bucket (if any)\n",
    "objects = client.list_objects(MINIO_BUCKET_NAME, recursive=True)\n",
    "for obj in objects:\n",
    "    client.remove_object(MINIO_BUCKET_NAME, obj.object_name)\n",
    "    print(f\"Deleted object: {obj.object_name}\")\n",
    "\n",
    "# 2. Remove the bucket\n",
    "client.remove_bucket(MINIO_BUCKET_NAME)\n",
    "print(f\"Bucket '{MINIO_BUCKET_NAME}' deleted successfully\")"
   ]
  }
 ],
 "metadata": {
  "kernelspec": {
   "display_name": "turlio",
   "language": "python",
   "name": "python3"
  },
  "language_info": {
   "codemirror_mode": {
    "name": "ipython",
    "version": 3
   },
   "file_extension": ".py",
   "mimetype": "text/x-python",
   "name": "python",
   "nbconvert_exporter": "python",
   "pygments_lexer": "ipython3",
   "version": "3.10.18"
  }
 },
 "nbformat": 4,
 "nbformat_minor": 5
}
