{
 "cells": [
  {
   "cell_type": "code",
   "execution_count": null,
   "id": "96819301",
   "metadata": {},
   "outputs": [],
   "source": [
    "\"\"\"\n",
    "\n",
    "Kafka là một nền tảng xử lý dữ liệu luồng (streaming platform) mã nguồn mở, được thiết kế để truyền tải, lưu trữ và xử lý dữ liệu sự kiện theo thời gian thực. Kafka thường được sử dụng để:\n",
    "\n",
    "- Xây dựng hệ thống message queue/pub-sub cho các ứng dụng phân tán.\n",
    "- Thu thập log, sự kiện từ nhiều nguồn và phân phối cho các dịch vụ khác.\n",
    "- Xử lý dữ liệu luồng trong các hệ thống real-time analytics, monitoring, và machine learning.\n",
    "- Làm nền tảng trung gian dữ liệu (data pipeline) giữa các hệ thống khác nhau.\n",
    "\"\"\"\n",
    "\n",
    "from confluent_kafka import Producer, Consumer\n",
    "import socket\n",
    "\n",
    "\n",
    "socket.gethostname()"
   ]
  },
  {
   "cell_type": "code",
   "execution_count": 14,
   "id": "c5da95f8",
   "metadata": {},
   "outputs": [
    {
     "name": "stdout",
     "output_type": "stream",
     "text": [
      "Message produced: <cimpl.Message object at 0x739bc4599f40>\n"
     ]
    },
    {
     "data": {
      "text/plain": [
       "1"
      ]
     },
     "execution_count": 14,
     "metadata": {},
     "output_type": "execute_result"
    }
   ],
   "source": [
    "conf = {\"bootstrap.servers\": \"localhost:9092\", \"client.id\": socket.gethostname()}\n",
    "\n",
    "producer = Producer(conf)\n",
    "\n",
    "topic = \"test-lingarscape\"\n",
    "\n",
    "\n",
    "def acked(err, msg):\n",
    "    if err is not None:\n",
    "        print(\"Failed to deliver message: %s: %s\" % (str(msg), str(err)))\n",
    "    else:\n",
    "        print(\"Message produced: %s\" % (str(msg)))\n",
    "\n",
    "\n",
    "producer.produce(topic, key=\"key\", value=\"This is a test message\", callback=acked)\n",
    "\n",
    "# Wait up to 1 second for events. Callbacks will be invoked during\n",
    "# this method call if the message is acknowledged.\n",
    "producer.poll(1)"
   ]
  },
  {
   "cell_type": "code",
   "execution_count": 15,
   "id": "8230c564",
   "metadata": {},
   "outputs": [
    {
     "name": "stdout",
     "output_type": "stream",
     "text": [
      "Received message: This is a test message\n",
      "Received message: This is a test message\n"
     ]
    },
    {
     "ename": "KeyboardInterrupt",
     "evalue": "",
     "output_type": "error",
     "traceback": [
      "\u001b[0;31m---------------------------------------------------------------------------\u001b[0m",
      "\u001b[0;31mKeyboardInterrupt\u001b[0m                         Traceback (most recent call last)",
      "Cell \u001b[0;32mIn[15], line 10\u001b[0m\n\u001b[1;32m      7\u001b[0m consumer\u001b[38;5;241m.\u001b[39msubscribe([topic])\n\u001b[1;32m      9\u001b[0m \u001b[38;5;28;01mwhile\u001b[39;00m \u001b[38;5;28;01mTrue\u001b[39;00m:\n\u001b[0;32m---> 10\u001b[0m     msg \u001b[38;5;241m=\u001b[39m \u001b[43mconsumer\u001b[49m\u001b[38;5;241;43m.\u001b[39;49m\u001b[43mpoll\u001b[49m\u001b[43m(\u001b[49m\u001b[38;5;241;43m1.0\u001b[39;49m\u001b[43m)\u001b[49m\n\u001b[1;32m     11\u001b[0m     \u001b[38;5;28;01mif\u001b[39;00m msg \u001b[38;5;129;01mis\u001b[39;00m \u001b[38;5;28;01mNone\u001b[39;00m:\n\u001b[1;32m     12\u001b[0m         \u001b[38;5;28;01mcontinue\u001b[39;00m\n",
      "\u001b[0;31mKeyboardInterrupt\u001b[0m: "
     ]
    }
   ],
   "source": [
    "conf = {\n",
    "    \"bootstrap.servers\": \"localhost:9092\",\n",
    "    \"group.id\": \"foo\",\n",
    "    \"auto.offset.reset\": \"smallest\",\n",
    "}\n",
    "topic = \"test-lingarscape\"\n",
    "\n",
    "consumer = Consumer(conf)\n",
    "consumer.subscribe([topic])\n",
    "\n",
    "while True:\n",
    "    msg = consumer.poll(1.0)\n",
    "    if msg is None:\n",
    "        continue\n",
    "    if msg.error():\n",
    "        print(\"Consumer error: %s\" % msg.error())\n",
    "        continue\n",
    "    print(\"Received message: %s\" % msg.value().decode(\"utf-8\"))"
   ]
  },
  {
   "cell_type": "code",
   "execution_count": null,
   "id": "00453cc2",
   "metadata": {},
   "outputs": [],
   "source": []
  },
  {
   "cell_type": "code",
   "execution_count": null,
   "id": "91bcd402",
   "metadata": {},
   "outputs": [],
   "source": []
  },
  {
   "cell_type": "code",
   "execution_count": null,
   "id": "8eeb3234",
   "metadata": {},
   "outputs": [],
   "source": []
  },
  {
   "cell_type": "code",
   "execution_count": null,
   "id": "6990b37e",
   "metadata": {},
   "outputs": [],
   "source": []
  }
 ],
 "metadata": {
  "kernelspec": {
   "display_name": "turlio",
   "language": "python",
   "name": "python3"
  },
  "language_info": {
   "codemirror_mode": {
    "name": "ipython",
    "version": 3
   },
   "file_extension": ".py",
   "mimetype": "text/x-python",
   "name": "python",
   "nbconvert_exporter": "python",
   "pygments_lexer": "ipython3",
   "version": "3.10.18"
  }
 },
 "nbformat": 4,
 "nbformat_minor": 5
}
